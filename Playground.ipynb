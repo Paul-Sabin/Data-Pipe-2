{
 "cells": [
  {
   "cell_type": "code",
   "execution_count": 2,
   "metadata": {},
   "outputs": [
    {
     "data": {
      "application/vnd.plotly.v1+json": {
       "config": {
        "plotlyServerURL": "https://plot.ly"
       },
       "data": [
        {
         "close": [
          "256.61",
          "261.44",
          "253.18",
          "248.48",
          "248.42",
          "238.45",
          "237.93",
          "237.49",
          "240.45",
          "234.96",
          "233.94",
          "227.22",
          "218.89",
          "219.91",
          "215.55",
          "211.88",
          "212.19",
          "208.80",
          "209.14",
          "207.83"
         ],
         "decreasing": {
          "fillcolor": "red",
          "line": {
           "color": "red"
          }
         },
         "high": [
          "257.97",
          "263.34",
          "265.13",
          "255.19",
          "251.25",
          "245.68",
          "242.70",
          "240.12",
          "241.25",
          "238.96",
          "235.50",
          "230.93",
          "225.34",
          "223.49",
          "215.67",
          "217.45",
          "213.19",
          "217.80",
          "215.65",
          "212.73"
         ],
         "increasing": {
          "fillcolor": "green",
          "line": {
           "color": "green"
          }
         },
         "low": [
          "252.91",
          "257.52",
          "252.71",
          "247.43",
          "244.41",
          "236.32",
          "237.73",
          "234.90",
          "235.30",
          "232.04",
          "231.29",
          "225.37",
          "217.15",
          "212.18",
          "212.01",
          "208.74",
          "207.56",
          "206.27",
          "207.75",
          "206.77"
         ],
         "open": [
          "254.49",
          "258.35",
          "263.66",
          "255.10",
          "250.08",
          "244.98",
          "239.25",
          "236.86",
          "236.14",
          "238.11",
          "235.10",
          "230.57",
          "220.08",
          "215.10",
          "214.86",
          "216.88",
          "209.99",
          "212.26",
          "211.30",
          "211.88"
         ],
         "type": "candlestick",
         "x": [
          "26/12/2023",
          "27/12/2023",
          "28/12/2023",
          "29/12/2023",
          "02/01/2024",
          "03/01/2024",
          "04/01/2024",
          "05/01/2024",
          "08/01/2024",
          "09/01/2024",
          "10/01/2024",
          "11/01/2024",
          "12/01/2024",
          "16/01/2024",
          "17/01/2024",
          "18/01/2024",
          "19/01/2024",
          "22/01/2024",
          "23/01/2024",
          "24/01/2024"
         ]
        }
       ],
       "layout": {
        "template": {
         "data": {
          "candlestick": [
           {
            "decreasing": {
             "line": {
              "color": "#000033"
             }
            },
            "increasing": {
             "line": {
              "color": "#000032"
             }
            },
            "type": "candlestick"
           }
          ],
          "contour": [
           {
            "colorscale": [
             [
              0,
              "#000011"
             ],
             [
              0.1111111111111111,
              "#000012"
             ],
             [
              0.2222222222222222,
              "#000013"
             ],
             [
              0.3333333333333333,
              "#000014"
             ],
             [
              0.4444444444444444,
              "#000015"
             ],
             [
              0.5555555555555556,
              "#000016"
             ],
             [
              0.6666666666666666,
              "#000017"
             ],
             [
              0.7777777777777778,
              "#000018"
             ],
             [
              0.8888888888888888,
              "#000019"
             ],
             [
              1,
              "#000020"
             ]
            ],
            "type": "contour"
           }
          ],
          "contourcarpet": [
           {
            "colorscale": [
             [
              0,
              "#000011"
             ],
             [
              0.1111111111111111,
              "#000012"
             ],
             [
              0.2222222222222222,
              "#000013"
             ],
             [
              0.3333333333333333,
              "#000014"
             ],
             [
              0.4444444444444444,
              "#000015"
             ],
             [
              0.5555555555555556,
              "#000016"
             ],
             [
              0.6666666666666666,
              "#000017"
             ],
             [
              0.7777777777777778,
              "#000018"
             ],
             [
              0.8888888888888888,
              "#000019"
             ],
             [
              1,
              "#000020"
             ]
            ],
            "type": "contourcarpet"
           }
          ],
          "heatmap": [
           {
            "colorscale": [
             [
              0,
              "#000011"
             ],
             [
              0.1111111111111111,
              "#000012"
             ],
             [
              0.2222222222222222,
              "#000013"
             ],
             [
              0.3333333333333333,
              "#000014"
             ],
             [
              0.4444444444444444,
              "#000015"
             ],
             [
              0.5555555555555556,
              "#000016"
             ],
             [
              0.6666666666666666,
              "#000017"
             ],
             [
              0.7777777777777778,
              "#000018"
             ],
             [
              0.8888888888888888,
              "#000019"
             ],
             [
              1,
              "#000020"
             ]
            ],
            "type": "heatmap"
           }
          ],
          "histogram2d": [
           {
            "colorscale": [
             [
              0,
              "#000011"
             ],
             [
              0.1111111111111111,
              "#000012"
             ],
             [
              0.2222222222222222,
              "#000013"
             ],
             [
              0.3333333333333333,
              "#000014"
             ],
             [
              0.4444444444444444,
              "#000015"
             ],
             [
              0.5555555555555556,
              "#000016"
             ],
             [
              0.6666666666666666,
              "#000017"
             ],
             [
              0.7777777777777778,
              "#000018"
             ],
             [
              0.8888888888888888,
              "#000019"
             ],
             [
              1,
              "#000020"
             ]
            ],
            "type": "histogram2d"
           }
          ],
          "icicle": [
           {
            "textfont": {
             "color": "white"
            },
            "type": "icicle"
           }
          ],
          "sankey": [
           {
            "textfont": {
             "color": "#000036"
            },
            "type": "sankey"
           }
          ],
          "scatter": [
           {
            "marker": {
             "line": {
              "width": 0
             }
            },
            "type": "scatter"
           }
          ],
          "table": [
           {
            "cells": {
             "fill": {
              "color": "#000038"
             },
             "font": {
              "color": "#000037"
             },
             "line": {
              "color": "#000039"
             }
            },
            "header": {
             "fill": {
              "color": "#000040"
             },
             "font": {
              "color": "#000036"
             },
             "line": {
              "color": "#000039"
             }
            },
            "type": "table"
           }
          ],
          "waterfall": [
           {
            "connector": {
             "line": {
              "color": "#000036",
              "width": 2
             }
            },
            "decreasing": {
             "marker": {
              "color": "#000033"
             }
            },
            "increasing": {
             "marker": {
              "color": "#000032"
             }
            },
            "totals": {
             "marker": {
              "color": "#000034"
             }
            },
            "type": "waterfall"
           }
          ]
         },
         "layout": {
          "coloraxis": {
           "colorscale": [
            [
             0,
             "#000011"
            ],
            [
             0.1111111111111111,
             "#000012"
            ],
            [
             0.2222222222222222,
             "#000013"
            ],
            [
             0.3333333333333333,
             "#000014"
            ],
            [
             0.4444444444444444,
             "#000015"
            ],
            [
             0.5555555555555556,
             "#000016"
            ],
            [
             0.6666666666666666,
             "#000017"
            ],
            [
             0.7777777777777778,
             "#000018"
            ],
            [
             0.8888888888888888,
             "#000019"
            ],
            [
             1,
             "#000020"
            ]
           ]
          },
          "colorscale": {
           "diverging": [
            [
             0,
             "#000021"
            ],
            [
             0.1,
             "#000022"
            ],
            [
             0.2,
             "#000023"
            ],
            [
             0.3,
             "#000024"
            ],
            [
             0.4,
             "#000025"
            ],
            [
             0.5,
             "#000026"
            ],
            [
             0.6,
             "#000027"
            ],
            [
             0.7,
             "#000028"
            ],
            [
             0.8,
             "#000029"
            ],
            [
             0.9,
             "#000030"
            ],
            [
             1,
             "#000031"
            ]
           ],
           "sequential": [
            [
             0,
             "#000011"
            ],
            [
             0.1111111111111111,
             "#000012"
            ],
            [
             0.2222222222222222,
             "#000013"
            ],
            [
             0.3333333333333333,
             "#000014"
            ],
            [
             0.4444444444444444,
             "#000015"
            ],
            [
             0.5555555555555556,
             "#000016"
            ],
            [
             0.6666666666666666,
             "#000017"
            ],
            [
             0.7777777777777778,
             "#000018"
            ],
            [
             0.8888888888888888,
             "#000019"
            ],
            [
             1,
             "#000020"
            ]
           ],
           "sequentialminus": [
            [
             0,
             "#000011"
            ],
            [
             0.1111111111111111,
             "#000012"
            ],
            [
             0.2222222222222222,
             "#000013"
            ],
            [
             0.3333333333333333,
             "#000014"
            ],
            [
             0.4444444444444444,
             "#000015"
            ],
            [
             0.5555555555555556,
             "#000016"
            ],
            [
             0.6666666666666666,
             "#000017"
            ],
            [
             0.7777777777777778,
             "#000018"
            ],
            [
             0.8888888888888888,
             "#000019"
            ],
            [
             1,
             "#000020"
            ]
           ]
          },
          "colorway": [
           "#000001",
           "#000002",
           "#000003",
           "#000004",
           "#000005",
           "#000006",
           "#000007",
           "#000008",
           "#000009",
           "#000010"
          ]
         }
        },
        "title": {
         "text": "TSLA Stock Price"
        },
        "xaxis": {
         "rangeslider": {
          "visible": true
         },
         "title": {
          "text": "Date"
         }
        },
        "yaxis": {
         "title": {
          "text": "Price in USD"
         }
        }
       }
      }
     },
     "metadata": {},
     "output_type": "display_data"
    }
   ],
   "source": [
    "import gspread\n",
    "import pandas as pd\n",
    "import plotly.graph_objects as go\n",
    "import streamlit as st\n",
    "\n",
    "def get_data_from_google_sheet():\n",
    "    # REPLACE LINE BELOW FOR STREAMLIT!\n",
    "    gc = gspread.service_account(filename=\"C:\\Asus WebStorage\\psabin@gmail.com\\MySyncFolder\\Data Science Course\\_offline\\service_account.json\")\n",
    "    wks = gc.open(\"CAB DataPipeline Tesla Stock Price\").sheet1\n",
    "    full_list_of_lists = wks.get_all_values()\n",
    "    list_of_lists = full_list_of_lists[1:]\n",
    "    df = pd.DataFrame(list_of_lists, columns = ['date', 'closing price', \"day's high\", \"day's low\", \"opening price\", \"trade volume\", \"$ change\", \"% change\"])\n",
    "    return df\n",
    "\n",
    "tesla_chart = get_data_from_google_sheet()\n",
    "tesla_chart\n",
    "\n",
    "# Create a candlestick chart\n",
    "fig = go.Figure(data=[go.Candlestick(x=tesla_chart['date'],\n",
    "                open=tesla_chart['opening price'],\n",
    "                high=tesla_chart['day\\'s high'],\n",
    "                low=tesla_chart['day\\'s low'],\n",
    "                close=tesla_chart['closing price'],\n",
    "                increasing_line_color='green', increasing_fillcolor='green',\n",
    "                decreasing_line_color='red', decreasing_fillcolor='red')])\n",
    "\n",
    "# Updating layout for better readability\n",
    "fig.update_layout(\n",
    "    title='TSLA Stock Price',\n",
    "    xaxis_title='Date',\n",
    "    yaxis_title='Price in USD',\n",
    "    xaxis_rangeslider_visible=False\n",
    ")\n",
    "\n",
    "fig\n",
    "\n",
    "# Display the figure in Streamlit\n",
    "# st.plotly_chart(fig)\n"
   ]
  },
  {
   "cell_type": "code",
   "execution_count": null,
   "metadata": {},
   "outputs": [],
   "source": []
  }
 ],
 "metadata": {
  "kernelspec": {
   "display_name": "PipelineProject",
   "language": "python",
   "name": "python3"
  },
  "language_info": {
   "codemirror_mode": {
    "name": "ipython",
    "version": 3
   },
   "file_extension": ".py",
   "mimetype": "text/x-python",
   "name": "python",
   "nbconvert_exporter": "python",
   "pygments_lexer": "ipython3",
   "version": "3.8.18"
  }
 },
 "nbformat": 4,
 "nbformat_minor": 2
}
